{
 "cells": [
  {
   "cell_type": "code",
   "execution_count": 1,
   "metadata": {
    "collapsed": true
   },
   "outputs": [],
   "source": [
    "import pandas as pd\n",
    "import numpy as np"
   ]
  },
  {
   "cell_type": "code",
   "execution_count": 8,
   "metadata": {
    "collapsed": false
   },
   "outputs": [],
   "source": [
    "poke=pd.read_csv(\"/Users/Shuxian/Documents/CSYE7200-Fall2016/predictemall/300k.csv\",low_memory=False)"
   ]
  },
  {
   "cell_type": "markdown",
   "metadata": {},
   "source": [
    "#### Drop pokemonId and S2 columns"
   ]
  },
  {
   "cell_type": "code",
   "execution_count": 9,
   "metadata": {
    "collapsed": false
   },
   "outputs": [],
   "source": [
    "poke.drop(poke.columns[[0,5,6,7,8,9,10,11]],axis=1,inplace=True)"
   ]
  },
  {
   "cell_type": "markdown",
   "metadata": {},
   "source": [
    "#### Filter: return America only, around 150k rows * 200 columns"
   ]
  },
  {
   "cell_type": "code",
   "execution_count": 14,
   "metadata": {
    "collapsed": false,
    "scrolled": false
   },
   "outputs": [],
   "source": [
    "poke=poke.loc[poke['continent'] == 'America']"
   ]
  },
  {
   "cell_type": "markdown",
   "metadata": {},
   "source": [
    "#### check distinct city names"
   ]
  },
  {
   "cell_type": "code",
   "execution_count": 35,
   "metadata": {
    "collapsed": true
   },
   "outputs": [],
   "source": [
    "citys=poke.city.unique()"
   ]
  },
  {
   "cell_type": "code",
   "execution_count": 61,
   "metadata": {
    "collapsed": false
   },
   "outputs": [
    {
     "name": "stdout",
     "output_type": "stream",
     "text": [
      "Mexico City\n",
      "New York\n",
      "Los Angeles\n",
      "Chicago\n",
      "Edmonton\n",
      "Phoenix\n",
      "Vancouver\n",
      "Denver\n",
      "Toronto\n",
      "Monterrey\n",
      "Winnipeg\n",
      "Montreal\n",
      "Puerto Rico\n",
      "Sao Paulo\n",
      "Halifax\n",
      "Regina\n",
      "Guayaquil\n",
      "Detroit\n",
      "Bahia\n",
      "Boise\n",
      "Bogota\n",
      "Santiago\n",
      "Costa Rica\n",
      "Fortaleza\n",
      "Belem\n",
      "Guyana\n"
     ]
    }
   ],
   "source": [
    "for city in citys:\n",
    "    city=city.strip()\n",
    "    city=city.replace(\"_\",\" \")\n",
    "    print(city)"
   ]
  },
  {
   "cell_type": "markdown",
   "metadata": {},
   "source": [
    "#### 'New_York', 'Los_Angeles', 'Chicago','Phoenix','Denver','Puerto_Rico','Detroit','Boise"
   ]
  },
  {
   "cell_type": "code",
   "execution_count": 68,
   "metadata": {
    "collapsed": false,
    "scrolled": true
   },
   "outputs": [],
   "source": [
    "from geopy.geocoders import Nominatim\n",
    "import json"
   ]
  },
  {
   "cell_type": "code",
   "execution_count": 71,
   "metadata": {
    "collapsed": false
   },
   "outputs": [
    {
     "data": {
      "text/plain": [
       "{'address': {'city': 'Poza Rica de Hidalgo',\n",
       "  'country': 'México',\n",
       "  'country_code': 'mx',\n",
       "  'county': 'Terrenos del Lote  Poza Rica',\n",
       "  'postcode': '93260',\n",
       "  'road': 'Calle 2 Oriente',\n",
       "  'state': 'Veracruz de Ignacio de la Llave'},\n",
       " 'boundingbox': ['20.5257071', '20.5257434', '-97.4619299', '-97.4586004'],\n",
       " 'display_name': 'Calle 2 Oriente, Poza Rica de Hidalgo, Terrenos del Lote  Poza Rica, Poza Rica de Hidalgo, Veracruz de Ignacio de la Llave, 93260, México',\n",
       " 'lat': '20.5257319',\n",
       " 'licence': 'Data © OpenStreetMap contributors, ODbL 1.0. http://www.openstreetmap.org/copyright',\n",
       " 'lon': '-97.4603146',\n",
       " 'osm_id': '185126690',\n",
       " 'osm_type': 'way',\n",
       " 'place_id': '107011101'}"
      ]
     },
     "execution_count": 71,
     "metadata": {},
     "output_type": "execute_result"
    }
   ],
   "source": [
    "geolocator = Nominatim()\n",
    "location = geolocator.reverse(\"20.525745, -97.460829\")\n",
    "# print(location.address)\n",
    "location.raw\n"
   ]
  },
  {
   "cell_type": "code",
   "execution_count": 15,
   "metadata": {
    "collapsed": false
   },
   "outputs": [
    {
     "data": {
      "text/html": [
       "<div>\n",
       "<table border=\"1\" class=\"dataframe\">\n",
       "  <thead>\n",
       "    <tr style=\"text-align: right;\">\n",
       "      <th></th>\n",
       "      <th>latitude</th>\n",
       "      <th>longitude</th>\n",
       "      <th>appearedLocalTime</th>\n",
       "      <th>_id</th>\n",
       "      <th>appearedTimeOfDay</th>\n",
       "      <th>appearedHour</th>\n",
       "      <th>appearedMinute</th>\n",
       "      <th>appearedDayOfWeek</th>\n",
       "      <th>appearedDay</th>\n",
       "      <th>appearedMonth</th>\n",
       "      <th>...</th>\n",
       "      <th>cooc_143</th>\n",
       "      <th>cooc_144</th>\n",
       "      <th>cooc_145</th>\n",
       "      <th>cooc_146</th>\n",
       "      <th>cooc_147</th>\n",
       "      <th>cooc_148</th>\n",
       "      <th>cooc_149</th>\n",
       "      <th>cooc_150</th>\n",
       "      <th>cooc_151</th>\n",
       "      <th>class</th>\n",
       "    </tr>\n",
       "  </thead>\n",
       "  <tbody>\n",
       "    <tr>\n",
       "      <th>0</th>\n",
       "      <td>20.525745</td>\n",
       "      <td>-97.460829</td>\n",
       "      <td>2016-09-08T03:57:45</td>\n",
       "      <td>NTgxMDkzOTk4MTM5MjUwMjIzNw==</td>\n",
       "      <td>night</td>\n",
       "      <td>5</td>\n",
       "      <td>57</td>\n",
       "      <td>dummy_day</td>\n",
       "      <td>8</td>\n",
       "      <td>8</td>\n",
       "      <td>...</td>\n",
       "      <td>False</td>\n",
       "      <td>False</td>\n",
       "      <td>False</td>\n",
       "      <td>False</td>\n",
       "      <td>False</td>\n",
       "      <td>False</td>\n",
       "      <td>False</td>\n",
       "      <td>False</td>\n",
       "      <td>False</td>\n",
       "      <td>16</td>\n",
       "    </tr>\n",
       "    <tr>\n",
       "      <th>1</th>\n",
       "      <td>20.523695</td>\n",
       "      <td>-97.461167</td>\n",
       "      <td>2016-09-08T03:57:37</td>\n",
       "      <td>OTQ1NDgzODc1MjM3NDEzMTI2MQ==</td>\n",
       "      <td>night</td>\n",
       "      <td>5</td>\n",
       "      <td>57</td>\n",
       "      <td>dummy_day</td>\n",
       "      <td>8</td>\n",
       "      <td>8</td>\n",
       "      <td>...</td>\n",
       "      <td>False</td>\n",
       "      <td>False</td>\n",
       "      <td>False</td>\n",
       "      <td>False</td>\n",
       "      <td>False</td>\n",
       "      <td>False</td>\n",
       "      <td>False</td>\n",
       "      <td>False</td>\n",
       "      <td>False</td>\n",
       "      <td>133</td>\n",
       "    </tr>\n",
       "    <tr>\n",
       "      <th>2</th>\n",
       "      <td>38.903590</td>\n",
       "      <td>-77.199780</td>\n",
       "      <td>2016-09-08T03:57:25</td>\n",
       "      <td>NTQ0OTQ0NDA1Nzg2ODg3OTg2OQ==</td>\n",
       "      <td>night</td>\n",
       "      <td>5</td>\n",
       "      <td>57</td>\n",
       "      <td>dummy_day</td>\n",
       "      <td>8</td>\n",
       "      <td>8</td>\n",
       "      <td>...</td>\n",
       "      <td>False</td>\n",
       "      <td>False</td>\n",
       "      <td>False</td>\n",
       "      <td>False</td>\n",
       "      <td>False</td>\n",
       "      <td>False</td>\n",
       "      <td>False</td>\n",
       "      <td>False</td>\n",
       "      <td>False</td>\n",
       "      <td>16</td>\n",
       "    </tr>\n",
       "    <tr>\n",
       "      <th>3</th>\n",
       "      <td>47.665903</td>\n",
       "      <td>-122.312561</td>\n",
       "      <td>2016-09-08T03:56:22</td>\n",
       "      <td>NTU2MTU1NDM4NzA2MDk1MDcxNw==</td>\n",
       "      <td>night</td>\n",
       "      <td>5</td>\n",
       "      <td>56</td>\n",
       "      <td>dummy_day</td>\n",
       "      <td>8</td>\n",
       "      <td>8</td>\n",
       "      <td>...</td>\n",
       "      <td>False</td>\n",
       "      <td>False</td>\n",
       "      <td>False</td>\n",
       "      <td>False</td>\n",
       "      <td>False</td>\n",
       "      <td>False</td>\n",
       "      <td>False</td>\n",
       "      <td>False</td>\n",
       "      <td>False</td>\n",
       "      <td>13</td>\n",
       "    </tr>\n",
       "    <tr>\n",
       "      <th>4</th>\n",
       "      <td>47.666454</td>\n",
       "      <td>-122.311628</td>\n",
       "      <td>2016-09-08T03:56:08</td>\n",
       "      <td>MTY2ODg4MTAzMTczMDE0MTUwNTM=</td>\n",
       "      <td>night</td>\n",
       "      <td>5</td>\n",
       "      <td>56</td>\n",
       "      <td>dummy_day</td>\n",
       "      <td>8</td>\n",
       "      <td>8</td>\n",
       "      <td>...</td>\n",
       "      <td>False</td>\n",
       "      <td>False</td>\n",
       "      <td>False</td>\n",
       "      <td>False</td>\n",
       "      <td>False</td>\n",
       "      <td>False</td>\n",
       "      <td>False</td>\n",
       "      <td>False</td>\n",
       "      <td>False</td>\n",
       "      <td>133</td>\n",
       "    </tr>\n",
       "  </tbody>\n",
       "</table>\n",
       "<p>5 rows × 200 columns</p>\n",
       "</div>"
      ],
      "text/plain": [
       "    latitude   longitude    appearedLocalTime                           _id  \\\n",
       "0  20.525745  -97.460829  2016-09-08T03:57:45  NTgxMDkzOTk4MTM5MjUwMjIzNw==   \n",
       "1  20.523695  -97.461167  2016-09-08T03:57:37  OTQ1NDgzODc1MjM3NDEzMTI2MQ==   \n",
       "2  38.903590  -77.199780  2016-09-08T03:57:25  NTQ0OTQ0NDA1Nzg2ODg3OTg2OQ==   \n",
       "3  47.665903 -122.312561  2016-09-08T03:56:22  NTU2MTU1NDM4NzA2MDk1MDcxNw==   \n",
       "4  47.666454 -122.311628  2016-09-08T03:56:08  MTY2ODg4MTAzMTczMDE0MTUwNTM=   \n",
       "\n",
       "  appearedTimeOfDay  appearedHour  appearedMinute appearedDayOfWeek  \\\n",
       "0             night             5              57         dummy_day   \n",
       "1             night             5              57         dummy_day   \n",
       "2             night             5              57         dummy_day   \n",
       "3             night             5              56         dummy_day   \n",
       "4             night             5              56         dummy_day   \n",
       "\n",
       "   appearedDay  appearedMonth  ...    cooc_143  cooc_144 cooc_145 cooc_146  \\\n",
       "0            8              8  ...       False     False    False    False   \n",
       "1            8              8  ...       False     False    False    False   \n",
       "2            8              8  ...       False     False    False    False   \n",
       "3            8              8  ...       False     False    False    False   \n",
       "4            8              8  ...       False     False    False    False   \n",
       "\n",
       "  cooc_147 cooc_148  cooc_149  cooc_150  cooc_151  class  \n",
       "0    False    False     False     False     False     16  \n",
       "1    False    False     False     False     False    133  \n",
       "2    False    False     False     False     False     16  \n",
       "3    False    False     False     False     False     13  \n",
       "4    False    False     False     False     False    133  \n",
       "\n",
       "[5 rows x 200 columns]"
      ]
     },
     "execution_count": 15,
     "metadata": {},
     "output_type": "execute_result"
    }
   ],
   "source": [
    "poke.head(5)"
   ]
  },
  {
   "cell_type": "markdown",
   "metadata": {
    "collapsed": false,
    "scrolled": true
   },
   "source": [
    "np.unique(poke[.columns[49:50]])"
   ]
  },
  {
   "cell_type": "markdown",
   "metadata": {
    "collapsed": true
   },
   "source": [
    "zipcode=pd.read_csv(\"/Users/Shuxian/Downloads/us_zipcode/US Zip Codes from 2013 Government Data\")"
   ]
  },
  {
   "cell_type": "markdown",
   "metadata": {
    "collapsed": false
   },
   "source": [
    "zipcode[\"LAT\"]"
   ]
  },
  {
   "cell_type": "code",
   "execution_count": null,
   "metadata": {
    "collapsed": true
   },
   "outputs": [],
   "source": []
  }
 ],
 "metadata": {
  "anaconda-cloud": {},
  "kernelspec": {
   "display_name": "Python [conda root]",
   "language": "python",
   "name": "conda-root-py"
  },
  "language_info": {
   "codemirror_mode": {
    "name": "ipython",
    "version": 3
   },
   "file_extension": ".py",
   "mimetype": "text/x-python",
   "name": "python",
   "nbconvert_exporter": "python",
   "pygments_lexer": "ipython3",
   "version": "3.5.2"
  }
 },
 "nbformat": 4,
 "nbformat_minor": 0
}
